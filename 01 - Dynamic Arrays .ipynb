{
 "cells": [
  {
   "cell_type": "code",
   "execution_count": 16,
   "metadata": {
    "collapsed": false
   },
   "outputs": [
    {
     "name": "stdout",
     "output_type": "stream",
     "text": [
      "Length :   0; Size in bytes:   64\n",
      "Aray is [] \n",
      "\n",
      "Length :   1; Size in bytes:   96\n",
      "Aray is [20] \n",
      "\n",
      "Length :   2; Size in bytes:   96\n",
      "Aray is [20, 20] \n",
      "\n",
      "Length :   3; Size in bytes:   96\n",
      "Aray is [20, 20, 20] \n",
      "\n",
      "Length :   4; Size in bytes:   96\n",
      "Aray is [20, 20, 20, 20] \n",
      "\n",
      "Length :   5; Size in bytes:  128\n",
      "Aray is [20, 20, 20, 20, 20] \n",
      "\n",
      "Length :   6; Size in bytes:  128\n",
      "Aray is [20, 20, 20, 20, 20, 20] \n",
      "\n",
      "Length :   7; Size in bytes:  128\n",
      "Aray is [20, 20, 20, 20, 20, 20, 20] \n",
      "\n",
      "Length :   8; Size in bytes:  128\n",
      "Aray is [20, 20, 20, 20, 20, 20, 20, 20] \n",
      "\n",
      "Length :   9; Size in bytes:  192\n",
      "Aray is [20, 20, 20, 20, 20, 20, 20, 20, 20] \n",
      "\n",
      "Length :  10; Size in bytes:  192\n",
      "Aray is [20, 20, 20, 20, 20, 20, 20, 20, 20, 20] \n",
      "\n",
      "Length :  11; Size in bytes:  192\n",
      "Aray is [20, 20, 20, 20, 20, 20, 20, 20, 20, 20, 20] \n",
      "\n",
      "Length :  12; Size in bytes:  192\n",
      "Aray is [20, 20, 20, 20, 20, 20, 20, 20, 20, 20, 20, 20] \n",
      "\n",
      "Length :  13; Size in bytes:  192\n",
      "Aray is [20, 20, 20, 20, 20, 20, 20, 20, 20, 20, 20, 20, 20] \n",
      "\n",
      "Length :  14; Size in bytes:  192\n",
      "Aray is [20, 20, 20, 20, 20, 20, 20, 20, 20, 20, 20, 20, 20, 20] \n",
      "\n",
      "Length :  15; Size in bytes:  192\n",
      "Aray is [20, 20, 20, 20, 20, 20, 20, 20, 20, 20, 20, 20, 20, 20, 20] \n",
      "\n",
      "Length :  16; Size in bytes:  192\n",
      "Aray is [20, 20, 20, 20, 20, 20, 20, 20, 20, 20, 20, 20, 20, 20, 20, 20] \n",
      "\n",
      "Length :  17; Size in bytes:  264\n",
      "Aray is [20, 20, 20, 20, 20, 20, 20, 20, 20, 20, 20, 20, 20, 20, 20, 20, 20] \n",
      "\n",
      "Length :  18; Size in bytes:  264\n",
      "Aray is [20, 20, 20, 20, 20, 20, 20, 20, 20, 20, 20, 20, 20, 20, 20, 20, 20, 20] \n",
      "\n",
      "Length :  19; Size in bytes:  264\n",
      "Aray is [20, 20, 20, 20, 20, 20, 20, 20, 20, 20, 20, 20, 20, 20, 20, 20, 20, 20, 20] \n",
      "\n"
     ]
    }
   ],
   "source": [
    "import sys\n",
    "n = 20\n",
    "data = []\n",
    "for i in range(n):\n",
    "    a = len(data)\n",
    "    b = sys.getsizeof(data) \n",
    "    print (\"Length : {0:3d}; Size in bytes: {1:4d}\".format(a,b))\n",
    "    print (\"Aray is \" + str(data) + \" \\n\")\n",
    "    data.append(n)"
   ]
  },
  {
   "cell_type": "markdown",
   "metadata": {},
   "source": [
    "# Dynamic Array using CTYPE"
   ]
  },
  {
   "cell_type": "code",
   "execution_count": 17,
   "metadata": {
    "collapsed": false
   },
   "outputs": [
    {
     "data": {
      "text/plain": [
       "2"
      ]
     },
     "execution_count": 17,
     "metadata": {},
     "output_type": "execute_result"
    }
   ],
   "source": [
    "import ctypes\n",
    "\n",
    "class DynamicArray(object):\n",
    "    '''\n",
    "    DYNAMIC ARRAY CLASS (Similar to Python List)\n",
    "    '''\n",
    "    \n",
    "    def __init__(self):\n",
    "        self.n = 0 # Count actual elements (Default is 0)\n",
    "        self.capacity = 1 # Default Capacity\n",
    "        self.A = self.make_array(self.capacity)\n",
    "        \n",
    "    def __len__(self):\n",
    "        \"\"\"\n",
    "        Return number of elements sorted in array\n",
    "        \"\"\"\n",
    "        return self.n\n",
    "    \n",
    "    def __getitem__(self,k):\n",
    "        \"\"\"\n",
    "        Return element at index k\n",
    "        \"\"\"\n",
    "        if not 0 <= k <self.n:\n",
    "            return IndexError('K is out of bounds!') # Check it k index is in bounds of array\n",
    "        \n",
    "        return self.A[k] #Retrieve from array at index k\n",
    "        \n",
    "    def append(self, ele):\n",
    "        \"\"\"\n",
    "        Add element to end of the array\n",
    "        \"\"\"\n",
    "        if self.n == self.capacity:\n",
    "            self._resize(2*self.capacity) #Double capacity if not enough room\n",
    "        \n",
    "        self.A[self.n] = ele #Set self.n index to element\n",
    "        self.n += 1\n",
    "        \n",
    "    def _resize(self,new_cap):\n",
    "        \"\"\"\n",
    "        Resize internal array to capacity new_cap\n",
    "        \"\"\"\n",
    "        \n",
    "        B = self.make_array(new_cap) # New bigger array\n",
    "        \n",
    "        for k in range(self.n): # Reference all existing values\n",
    "            B[k] = self.A[k]\n",
    "            \n",
    "        self.A = B # Call A the new bigger array\n",
    "        self.capacity = new_cap # Reset the capacity\n",
    "        \n",
    "    def make_array(self,new_cap):\n",
    "        \"\"\"\n",
    "        Returns a new array with new_cap capacity\n",
    "        \"\"\"\n",
    "        return (new_cap * ctypes.py_object)()\n",
    "    \n",
    "# Instantiate\n",
    "arr = DynamicArray()\n",
    "\n",
    "# Append new element\n",
    "arr.append(1)\n",
    "\n",
    "# Check length\n",
    "len(arr)\n",
    "\n",
    "# Append new element\n",
    "arr.append(2)\n",
    "\n",
    "# Check length\n",
    "len(arr)\n",
    "\n",
    "# Index\n",
    "arr[0]\n",
    "arr[1]"
   ]
  }
 ],
 "metadata": {
  "kernelspec": {
   "display_name": "Python 2",
   "language": "python",
   "name": "python2"
  },
  "language_info": {
   "codemirror_mode": {
    "name": "ipython",
    "version": 2
   },
   "file_extension": ".py",
   "mimetype": "text/x-python",
   "name": "python",
   "nbconvert_exporter": "python",
   "pygments_lexer": "ipython2",
   "version": "2.7.11"
  }
 },
 "nbformat": 4,
 "nbformat_minor": 0
}
