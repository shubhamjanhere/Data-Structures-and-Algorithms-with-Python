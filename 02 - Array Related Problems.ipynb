{
 "cells": [
  {
   "cell_type": "markdown",
   "metadata": {},
   "source": [
    "# Problem\n",
    "## Anagrams\n",
    "Given two strings, check to see if they are anagrams. An anagram is when the two strings can be written using the exact same letters (so you can just rearrange the letters to get a different phrase or word). \n",
    "For example:\n",
    "\n",
    "    \"public relations\" is an anagram of \"crap built on lies.\"\n",
    "    \n",
    "    \"clint eastwood\" is an anagram of \"old west action\"\n",
    "    \n",
    "**Note: Ignore spaces and capitalization. So \"d go\" is an anagram of \"God\" and \"dog\" and \"o d g\".**\n",
    "\n",
    "## Solution\n",
    "\n",
    "There are two ways of thinking about this problem, if two strings have the same frequency of letters/element (meaning each letter shows up the same number of times in both strings) then they are anagrams of eachother. On a similar vien of logic, if two strings are equal to each other once they are sorted, then they are also anagrams of each other.\n"
   ]
  },
  {
   "cell_type": "code",
   "execution_count": 58,
   "metadata": {
    "collapsed": true
   },
   "outputs": [],
   "source": [
    "# SOLUTION 1\n",
    "\n",
    "def check(str1,str2):\n",
    "    l1 = str1.strip().lower().replace('',' ').split()\n",
    "    l2 = str2.strip().lower().replace('',' ').split()\n",
    "    l1.sort()\n",
    "    l2.sort()\n",
    "    return l1 == l2\n",
    "\n",
    "str1 = 'public Relations'\n",
    "str2 = 'crap built on lies'\n",
    "check(str1,str2)"
   ]
  },
  {
   "cell_type": "code",
   "execution_count": 60,
   "metadata": {
    "collapsed": false
   },
   "outputs": [
    {
     "data": {
      "text/plain": [
       "False"
      ]
     },
     "execution_count": 60,
     "metadata": {},
     "output_type": "execute_result"
    }
   ],
   "source": [
    "# SOLUTION 2\n",
    "\n",
    "str1 = 'public elations'\n",
    "str2 = 'crap built on lies'\n",
    "\n",
    "def anagram(s1,s2):    \n",
    "    # Remove spaces and lowercase letters\n",
    "    s1 = s1.replace(' ','').lower()\n",
    "    s2 = s2.replace(' ','').lower()\n",
    "    \n",
    "    # Return boolean for sorted match.\n",
    "    return sorted(s1) == sorted(s2)"
   ]
  },
  {
   "cell_type": "code",
   "execution_count": 62,
   "metadata": {
    "collapsed": false
   },
   "outputs": [],
   "source": [
    "# SOLUTION 3\n",
    "def anagram2(s1,s2):\n",
    "    \n",
    "    # Remove spaces and lowercase letters\n",
    "    s1 = s1.replace(' ','').lower()\n",
    "    s2 = s2.replace(' ','').lower()\n",
    "    \n",
    "    # Edge Case to check if same number of letters\n",
    "    if len(s1) != len(s2):\n",
    "        return False\n",
    "    \n",
    "    # Create counting dictionary (Note could use DefaultDict from Collections module)\n",
    "    count = {}\n",
    "    \n",
    "    \n",
    "        \n",
    "    # Fill dictionary for first string (add counts)\n",
    "    for letter in s1:\n",
    "        if letter in count:\n",
    "            count[letter] += 1\n",
    "        else:\n",
    "            count[letter] = 1\n",
    "            \n",
    "    # Fill dictionary for second string (subtract counts)\n",
    "    for letter in s2:\n",
    "        if letter in count:\n",
    "            count[letter] -= 1\n",
    "        else:\n",
    "            count[letter] = 1\n",
    "    \n",
    "    # Check that all counts are 0\n",
    "    for k in count:\n",
    "        if count[k] != 0:\n",
    "            return False\n",
    "\n",
    "    # Otherwise they're anagrams\n",
    "    return True"
   ]
  },
  {
   "cell_type": "markdown",
   "metadata": {},
   "source": [
    "# Array Pair Sum\n",
    "# Problem\n",
    "Given an integer array, output all the unique pairs that sum up to a specific value k.\n",
    "So the input:\n",
    "pair_sum([1,3,2,2],4)\n",
    "would return 2 pairs:\n",
    " (1,3)\n",
    " (2,2)\n",
    "NOTE: FOR TESTING PURPOSES< CHANGE YOUR FUNCTION SO IT OUTPUTS THE NUMBER OF PAIRS\n",
    "\n",
    "Solution\n",
    "The O(N) algorithm uses the set data structure. We perform a linear pass from the beginning and for each element we check whether k-element is in the set of seen numbers. If it is, then we found a pair of sum k and add it to the output. If not, this element doesn’t belong to a pair yet, and we add it to the set of seen elements.\n",
    "The algorithm is really simple once we figure out using a set. The complexity is O(N) because we do a single linear scan of the array, and for each element we just check whether the corresponding number to form a pair is in the set or add the current element to the set. Insert and find operations of a set are both average O(1), so the algorithm is O(N) in total."
   ]
  },
  {
   "cell_type": "code",
   "execution_count": 66,
   "metadata": {
    "collapsed": true
   },
   "outputs": [],
   "source": [
    "## SOL 1\n",
    "lis = [1,3,2,2,1,2,4,6,7,8]\n",
    "lis = list(set(lis))\n",
    "n_sum = 5\n",
    "n_len = len(lis)\n",
    "\n",
    "l = []\n",
    "for i in range(0,n_len):\n",
    "    for x in range(i+1,n_len):\n",
    "        if(n_sum==lis[i] + lis[x]):\n",
    "            l.append([lis[i],lis[x]])       \n",
    "#ANS            \n",
    "l"
   ]
  },
  {
   "cell_type": "code",
   "execution_count": 77,
   "metadata": {
    "collapsed": false
   },
   "outputs": [],
   "source": [
    "## SOL 2\n",
    "def pair_sum(arr,k):\n",
    "    \n",
    "    if len(arr)<2:\n",
    "        return\n",
    "    \n",
    "    # Sets for tracking\n",
    "    seen = set()\n",
    "    output = set()\n",
    "    \n",
    "    # For every number in array\n",
    "    for num in arr:\n",
    "        \n",
    "        # Set target difference\n",
    "        target = k-num\n",
    "        \n",
    "        # Add it to set if target hasn't been seen\n",
    "        if target not in seen:\n",
    "            seen.add(num)\n",
    "        \n",
    "        else:\n",
    "            # Add a tuple with the corresponding pair\n",
    "            output.add( (min(num,target),  max(num,target)) )\n",
    "    \n",
    "    \n",
    "    # FOR TESTING\n",
    "    return len(output)\n",
    "    # Nice one-liner for printing output\n",
    "    #return '\\n'.join(map(str,list(output)))"
   ]
  },
  {
   "cell_type": "markdown",
   "metadata": {},
   "source": [
    "# Largest Continuous Sum\n",
    "## Problem\n",
    "Given an array of integers (positive and negative) find the largest continuous sum.\n",
    "\n",
    "Solution\n",
    "If the array is all positive, then the result is simply the sum of all numbers. The negative numbers in the array will cause us to need to begin checking sequences.\n",
    "The algorithm is, we start summing up the numbers and store in a current sum variable. After adding each element, we check whether the current sum is larger than maximum sum encountered so far. If it is, we update the maximum sum. As long as the current sum is positive, we keep adding the numbers. When the current sum becomes negative, we start with a new current sum. Because a negative current sum will only decrease the sum of a future sequence. Note that we don’t reset the current sum to 0 because the array can contain all negative integers. Then the result would be the largest negative number.\n"
   ]
  },
  {
   "cell_type": "code",
   "execution_count": 82,
   "metadata": {
    "collapsed": false
   },
   "outputs": [
    {
     "data": {
      "text/plain": [
       "-1"
      ]
     },
     "execution_count": 82,
     "metadata": {},
     "output_type": "execute_result"
    }
   ],
   "source": [
    "def large_cont_sum(arr): \n",
    "    \n",
    "    # Check to see if array is length 0\n",
    "    if len(arr)==0: \n",
    "        return 0\n",
    "    \n",
    "    # Start the max and current sum at the first element\n",
    "    max_sum=current_sum=arr[0] \n",
    "    \n",
    "    # For every element in array\n",
    "    for num in arr[1:]: \n",
    "        \n",
    "        # Set current sum as the higher of the two\n",
    "        current_sum=max(current_sum+num, num)\n",
    "        \n",
    "        # Set max as the higher between the currentSum and the current max\n",
    "        max_sum=max(current_sum, max_sum) \n",
    "        \n",
    "    return max_sum \n",
    "\n",
    "large_cont_sum([-10,-2,-1,-3,-4,-10,-10,-10,-1])"
   ]
  },
  {
   "cell_type": "markdown",
   "metadata": {},
   "source": [
    "# Sentence Reversal\n",
    "## Problem\n",
    "Given a string of words, reverse all the words. For example:\n",
    "Given:\n",
    "'This is the best'\n",
    "Return:\n",
    "'best the is This'\n",
    "As part of this exercise you should remove all leading and trailing whitespace. So that inputs such as:\n",
    "'  space here'  and 'space here      '\n",
    "both become:\n",
    "'here space'\n",
    "Solution\n",
    "We could take advantage of Python's abilities and solve the problem with the use of split() and some slicing or use of reversed:"
   ]
  },
  {
   "cell_type": "code",
   "execution_count": 83,
   "metadata": {
    "collapsed": true
   },
   "outputs": [],
   "source": [
    "def rev_word1(s):\n",
    "    return \" \".join(reversed(s.split()))\n"
   ]
  },
  {
   "cell_type": "code",
   "execution_count": 84,
   "metadata": {
    "collapsed": true
   },
   "outputs": [],
   "source": [
    "# OR\n",
    "\n",
    "def rev_word3(s):\n",
    "    \"\"\"\n",
    "    Manually doing the splits on the spaces.\n",
    "    \"\"\"\n",
    "    \n",
    "    words = []\n",
    "    length = len(s)\n",
    "    spaces = [' ']\n",
    "    \n",
    "    # Index Tracker\n",
    "    i = 0\n",
    "    \n",
    "    # While index is less than length of string\n",
    "    while i < length:\n",
    "        \n",
    "        # If element isn't a space\n",
    "        if s[i] not in spaces:\n",
    "            \n",
    "            # The word starts at this index\n",
    "            word_start = i\n",
    "            \n",
    "            while i < length and s[i] not in spaces:\n",
    "                \n",
    "                # Get index where word ends\n",
    "                i += 1\n",
    "            # Append that word to the list\n",
    "            words.append(s[word_start:i])\n",
    "        # Add to index\n",
    "        i += 1\n",
    "        \n",
    "    # Join the reversed words\n",
    "    return \" \".join(reversed(words))"
   ]
  },
  {
   "cell_type": "markdown",
   "metadata": {
    "collapsed": false
   },
   "source": [
    "# Find the Missing Element\n",
    "## Problem\n",
    "\n",
    "Consider an array of non-negative integers. A second array is formed by shuffling the elements of the first array and deleting a random element. Given these two arrays, find which element is missing in the second array.\n",
    "Here is an example input, the first array is shuffled and the number 5 is removed to construct the second array.\n",
    "Input:\n",
    "finder([1,2,3,4,5,6,7],[3,7,2,1,4,6])\n",
    "Output:\n",
    "5 is the missing number\n",
    "\n",
    "Solution\n",
    "The naive solution is go through every element in the second array and check whether it appears in the first array. Note that there may be duplicate elements in the arrays so we should pay special attention to it. The complexity of this approach is O(N^2), since we would need two for loops.\n",
    "A more efficient solution is to sort the first array, so while checking whether an element in the first array appears in the second, we can do binary search (we'll learn about binary search in more detail in a future section). But we should still be careful about duplicate elements. The complexity is O(NlogN).\n",
    "If we don’t want to deal with the special case of duplicate numbers, we can sort both arrays and iterate over them simultaneously. Once two iterators have different values we can stop. The value of the first iterator is the missing element. This solution is also O(NlogN). Here is the solution for this approach:"
   ]
  },
  {
   "cell_type": "code",
   "execution_count": null,
   "metadata": {
    "collapsed": true
   },
   "outputs": [],
   "source": [
    "def finder(arr1,arr2):\n",
    "    \n",
    "    # Sort the arrays\n",
    "    arr1.sort()\n",
    "    arr2.sort()\n",
    "    \n",
    "    # Compare elements in the sorted arrays\n",
    "    for num1, num2 in zip(arr1,arr2):\n",
    "        if num1!= num2:\n",
    "            return num1\n",
    "    \n",
    "    # Otherwise return last element\n",
    "    return arr1[-1]\n",
    "\n",
    "arr1 = [1,2,3,4,5,6,7]\n",
    "arr2 = [3,7,2,1,4,6]\n",
    "finder(arr1,arr2)"
   ]
  },
  {
   "cell_type": "markdown",
   "metadata": {
    "collapsed": true
   },
   "source": [
    "We can use a hashtable and store the number of times each element appears in the second array. Then for each element in the first array we decrement its counter. Once hit an element with zero count that’s the missing element. Here is this solution:"
   ]
  },
  {
   "cell_type": "code",
   "execution_count": 50,
   "metadata": {
    "collapsed": false
   },
   "outputs": [],
   "source": [
    "def lis_to_dict(lis):\n",
    "    dic = dict()\n",
    "    l = list(lis)\n",
    "    count = 0\n",
    "    for i in l:\n",
    "        if not i in dic:\n",
    "            dic[i] = 1\n",
    "        else:\n",
    "            dic[i] += 1\n",
    "    return dic\n",
    "\n",
    "\n",
    "def check(a2, d1):\n",
    "    for num in a2: \n",
    "        if d1[num]==0: \n",
    "            return num # We can also use pass\n",
    "            # Otherwise, subtract a count\n",
    "        else: d1[num]  -= 1 "
   ]
  },
  {
   "cell_type": "code",
   "execution_count": 78,
   "metadata": {
    "collapsed": false
   },
   "outputs": [
    {
     "data": {
      "text/plain": [
       "{1: 0, 2: 0, 3: 0, 4: 1, 5: 0}"
      ]
     },
     "execution_count": 78,
     "metadata": {},
     "output_type": "execute_result"
    }
   ],
   "source": [
    "# Here List1 must be bigger than List2\n",
    "l1 = [1,1,2,3,4,5]\n",
    "l2 = [1,1,2,3,5]\n",
    "\n",
    "l1.sort()\n",
    "l2.sort()\n",
    "d1 = lis_to_dict(l1)\n",
    "\n",
    "check(l2, d1)\n",
    "d1"
   ]
  },
  {
   "cell_type": "code",
   "execution_count": 81,
   "metadata": {
    "collapsed": false
   },
   "outputs": [],
   "source": [
    "## ANOTHER SOL\n",
    "\n",
    "\n",
    "import collections\n",
    "def finder2(arr1, arr2): \n",
    "    \n",
    "    # Using default dict to avoid key errors\n",
    "    d=collections.defaultdict(int) \n",
    "    \n",
    "    # Add a count for every instance in Array 1\n",
    "    for num in arr2:\n",
    "        d[num]+=1 \n",
    "    \n",
    "    # Check if num not in dictionary\n",
    "    for num in arr1: \n",
    "        if d[num]==0: \n",
    "            return num \n",
    "        \n",
    "        # Otherwise, subtract a count\n",
    "        else: d[num]-=1 \n",
    "            \n",
    "arr1 = [5,5,7,7]\n",
    "arr2 = [5,7,7]\n",
    "\n",
    "finder2(arr1,arr2)"
   ]
  },
  {
   "cell_type": "markdown",
   "metadata": {},
   "source": [
    "# String Compression\n",
    "## Problem\n",
    "Given a string in the form 'AAAABBBBCCCCCDDEEEE' compress it to become 'A4B4C5D2E4'. For this problem, you can falsely \"compress\" strings of single or double letters. For instance, it is okay for 'AAB' to return 'A2B1' even though this technically takes more space.\n",
    "The function should also be case sensitive, so that a string 'AAAaaa' returns 'A3a3'.\n",
    "\n",
    "## Solution\n",
    "Since Python strings are immutable, we'll need to work off of a list of characters, and at the end convert that list back into a string with a join statement.\n",
    "The solution below should yield us with a Time and Space complexity of O(n). Let's take a look with careful attention to the explanatory comments:"
   ]
  },
  {
   "cell_type": "code",
   "execution_count": 112,
   "metadata": {
    "collapsed": false
   },
   "outputs": [],
   "source": [
    "def lis_to_dict(lis):\n",
    "    dic = dict()\n",
    "    l = list(lis)\n",
    "    count = 0\n",
    "    for i in l:\n",
    "        if not i in dic:\n",
    "            dic[i] = 1\n",
    "        else:\n",
    "            dic[i] += 1\n",
    "    return dic"
   ]
  },
  {
   "cell_type": "code",
   "execution_count": 135,
   "metadata": {
    "collapsed": false
   },
   "outputs": [],
   "source": [
    "str1 = \"AABAABBBBCDCCCCDDEEEE\"\n",
    "\n",
    "l =  str1.replace('',' ').strip().split()\n",
    "l = sorted(l)\n",
    "\n",
    "d1 = lis_to_dict(l)\n",
    "str_final  = \"\"\n",
    "for i in d1:\n",
    "    str_final +=  (str(i))\n",
    "    str_final += (str(d1[i]))"
   ]
  },
  {
   "cell_type": "code",
   "execution_count": 136,
   "metadata": {
    "collapsed": false
   },
   "outputs": [
    {
     "data": {
      "text/plain": [
       "'A4C5B5E4D3'"
      ]
     },
     "execution_count": 136,
     "metadata": {},
     "output_type": "execute_result"
    }
   ],
   "source": [
    "str_final"
   ]
  },
  {
   "cell_type": "code",
   "execution_count": 133,
   "metadata": {
    "collapsed": false
   },
   "outputs": [],
   "source": [
    "## ANOTHER SOL\n",
    "\n",
    "\n",
    "def compress(s):\n",
    "    \"\"\"\n",
    "    This solution compresses without checking. Known as the RunLength Compression algorithm.\n",
    "    \"\"\"\n",
    "    \n",
    "    # Begin Run as empty string\n",
    "    r = \"\"\n",
    "    l = len(s)\n",
    "    \n",
    "    # Check for length 0\n",
    "    if l == 0:\n",
    "        return \"\"\n",
    "    \n",
    "    # Check for length 1\n",
    "    if l == 1:\n",
    "        return s + \"1\"\n",
    "    \n",
    "    #Intialize Values\n",
    "    last = s[0]\n",
    "    cnt = 1\n",
    "    i = 1\n",
    "    \n",
    "    while i < l:\n",
    "        \n",
    "        # Check to see if it is the same letter\n",
    "        if s[i] == s[i - 1]: \n",
    "            # Add a count if same as previous\n",
    "            cnt += 1\n",
    "        else:\n",
    "            # Otherwise store the previous data\n",
    "            r = r + s[i - 1] + str(cnt)\n",
    "            cnt = 1\n",
    "            \n",
    "        # Add to index count to terminate while loop\n",
    "        i += 1\n",
    "    \n",
    "    # Put everything back into run\n",
    "    r = r + s[i - 1] + str(cnt)\n",
    "    \n",
    "    return r"
   ]
  },
  {
   "cell_type": "markdown",
   "metadata": {},
   "source": [
    "# Unique Characters in String\n",
    "## Problem\n",
    "Given a string,determine if it is compreised of all unique characters. For example, the string 'abcde' has all unique characters and should return True. The string 'aabcde' contains duplicate characters and should return false.\n",
    "Solution\n",
    "We'll show two possible solutions, one using a built-in data structure and a built in function, and another using a built-in data structure but using a look-up method to check if the characters are unique.\n"
   ]
  },
  {
   "cell_type": "code",
   "execution_count": 164,
   "metadata": {
    "collapsed": false
   },
   "outputs": [],
   "source": [
    "str1 = \"aabcde\" \n",
    "\n",
    "\n",
    "def check(str_n):\n",
    "    l = list()\n",
    "    l = str_n.replace('',' ').strip().split()\n",
    "    flag = 0\n",
    "    leng = len(l)\n",
    "    for i in range(0,leng-1):\n",
    "        if l[i]==l[i+1] :\n",
    "            flag = 1\n",
    "\n",
    "    if flag == 0:\n",
    "        return True\n",
    "    else:\n",
    "        return False"
   ]
  },
  {
   "cell_type": "code",
   "execution_count": 168,
   "metadata": {
    "collapsed": false
   },
   "outputs": [
    {
     "name": "stdout",
     "output_type": "stream",
     "text": [
      "False\n",
      "True\n"
     ]
    }
   ],
   "source": [
    "str1 = \"aabcde\" \n",
    "print(check(str1))\n",
    "str2 = \"abcde\"\n",
    "print(check(str2))"
   ]
  },
  {
   "cell_type": "code",
   "execution_count": 169,
   "metadata": {
    "collapsed": false
   },
   "outputs": [],
   "source": [
    "# ANOTHER SOL\n",
    "def uni_char(s):\n",
    "    return len(set(s)) == len(s)\n",
    "\n",
    "def uni_char2(s):\n",
    "    chars = set()\n",
    "    for let in s:\n",
    "        # Check if in set\n",
    "        if let in chars:\n",
    "            return False\n",
    "        else:\n",
    "            #Add it to the set\n",
    "            chars.add(let)\n",
    "    return True"
   ]
  }
 ],
 "metadata": {
  "kernelspec": {
   "display_name": "Python 2",
   "language": "python",
   "name": "python2"
  },
  "language_info": {
   "codemirror_mode": {
    "name": "ipython",
    "version": 2
   },
   "file_extension": ".py",
   "mimetype": "text/x-python",
   "name": "python",
   "nbconvert_exporter": "python",
   "pygments_lexer": "ipython2",
   "version": "2.7.11"
  }
 },
 "nbformat": 4,
 "nbformat_minor": 0
}
